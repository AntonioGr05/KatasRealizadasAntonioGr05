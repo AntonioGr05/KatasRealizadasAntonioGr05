{
 "cells": [
  {
   "cell_type": "markdown",
   "metadata": {},
   "source": [
    "# Ejercicios Kata 03\n",
    "\n",
    "## Ejercicio 01"
   ]
  },
  {
   "cell_type": "code",
   "execution_count": null,
   "metadata": {},
   "outputs": [],
   "source": [
    "# Añadir el código necesario para crear una variable que guarde la velocidad del asteroide.\n",
    "# Escribe una expresión de prueba para calcular si necesita una advertencia.\n",
    "# Agregue las instrucciones que se ejecutarán si la expresión de prueba es true o false.\n",
    "\n",
    "velAsteroide = 49 #Km/s\n",
    "if velAsteroide > 25:\n",
    "    print('Cuidado se acerca un asteroide con la velocidad de:', velAsteroide , 'Km/S')\n",
    "else:\n",
    "    print('No te preocupes no hay señales de peligro')"
   ]
  },
  {
   "cell_type": "markdown",
   "metadata": {},
   "source": [
    "## Ejercicio 02"
   ]
  },
  {
   "cell_type": "code",
   "execution_count": 22,
   "metadata": {},
   "outputs": [
    {
     "name": "stdout",
     "output_type": "stream",
     "text": [
      "oh que mala suerte el asteroide va muy despacio :'C \n"
     ]
    }
   ],
   "source": [
    "# Agrega el código para crear una variable para un asteroide que viaja a 19 km/s\n",
    "# Escribe varias expresiones de prueba para determinar si puedes ver el rayo de luz desde la tierra\n",
    "# Agrega las instrucciones que se ejecutarán si las expresiones de prueba son True o False\n",
    "velAsteroide02 = 19\n",
    "if velAsteroide02 == 20: #Tambien se puede realizar con el operador >= (mayor e igual), asi evitando el elif\n",
    "    print('!Mira¡ !Un asteroide va dejando un rayo de luz en el cielo¡')\n",
    "elif velAsteroide02 > 20:\n",
    "    print('!Mira¡ !Un asteroide va dejando un rayo de luz en el cielo¡')\n",
    "else:\n",
    "    print(\"oh que mala suerte el asteroide va muy despacio :'C \")"
   ]
  },
  {
   "cell_type": "markdown",
   "metadata": {},
   "source": [
    "## Ejercicio 03"
   ]
  },
  {
   "cell_type": "code",
   "execution_count": 25,
   "metadata": {},
   "outputs": [
    {
     "name": "stdout",
     "output_type": "stream",
     "text": [
      "!Mira¡ !Un asteroide va dejando un rayo de luz en el cielo¡\n"
     ]
    }
   ],
   "source": [
    "# Agrega el código para crear nuevas variables para la velocidad y el tamaño del asteroide\n",
    "# Para probar el código, prueba con varias velocidades y tamaños\n",
    "# Escribe varias expresiones de prueba o combinaciones de expresiones de prueba para determinar qué mensaje se debe enviar a Tierra.\n",
    "\n",
    "velAsteroide03 = 18\n",
    "tamAsteroide = 15\n",
    "if velAsteroide > 25 and tamAsteroide > 25:\n",
    "    print('!Cuidado, viene un asteroide muy peligroso¡')\n",
    "elif velAsteroide >= 20:\n",
    "    print('!Mira¡ !Un asteroide va dejando un rayo de luz en el cielo¡')\n",
    "else:\n",
    "    print('No existe ninguna novedad')\n"
   ]
  }
 ],
 "metadata": {
  "interpreter": {
   "hash": "794d4fb344e7dfbd9d8e62a5303e08e679deeb8bb7cb7a546a2ca96b4c50d29e"
  },
  "kernelspec": {
   "display_name": "Python 3.10.2 64-bit (windows store)",
   "language": "python",
   "name": "python3"
  },
  "language_info": {
   "codemirror_mode": {
    "name": "ipython",
    "version": 3
   },
   "file_extension": ".py",
   "mimetype": "text/x-python",
   "name": "python",
   "nbconvert_exporter": "python",
   "pygments_lexer": "ipython3",
   "version": "3.10.2"
  },
  "orig_nbformat": 4
 },
 "nbformat": 4,
 "nbformat_minor": 2
}
